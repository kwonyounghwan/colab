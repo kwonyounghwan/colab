{
  "nbformat": 4,
  "nbformat_minor": 0,
  "metadata": {
    "colab": {
      "provenance": [],
      "toc_visible": true,
      "authorship_tag": "ABX9TyPjttB8XadKYOsGIgrDm9wI",
      "include_colab_link": true
    },
    "kernelspec": {
      "name": "python3",
      "display_name": "Python 3"
    },
    "language_info": {
      "name": "python"
    }
  },
  "cells": [
    {
      "cell_type": "markdown",
      "metadata": {
        "id": "view-in-github",
        "colab_type": "text"
      },
      "source": [
        "<a href=\"https://colab.research.google.com/github/kwonyounghwan/colab/blob/main/word2vec_dtm.ipynb\" target=\"_parent\"><img src=\"https://colab.research.google.com/assets/colab-badge.svg\" alt=\"Open In Colab\"/></a>"
      ]
    },
    {
      "cell_type": "markdown",
      "source": [
        "**문서-단어 행렬(Document-Term Matrix, DTM)**\n",
        "\n",
        "\n",
        "문서-단어 행렬(Document-Term Matrix, DTM)은 여러 문서에 걸쳐 단어의 출현 빈도를 행렬 형태로 표현하는 방법입니다. 각 행은 개별 문서를 나타내고, 각 열은 단어 사전에 있는 단어를 나타냅니다. 이 방식은 문서들 사이의 비교나 텍스트 데이터의 구조적 분석을 용이하게 합니다. 다음은 파이썬에서 DTM을 생성하는 예제 소스코드입니다. 이 예제에서는 CountVectorizer를 사용하여 DTM을 생성합니다."
      ],
      "metadata": {
        "id": "zzwTX1TAruGe"
      }
    },
    {
      "cell_type": "code",
      "execution_count": 1,
      "metadata": {
        "colab": {
          "base_uri": "https://localhost:8080/"
        },
        "id": "AQZ_oZpIkyws",
        "outputId": "c47b4fab-ce6b-4cd7-ec6a-33c58b7c0562"
      },
      "outputs": [
        {
          "output_type": "stream",
          "name": "stdout",
          "text": [
            "단어 인덱스:\n",
            " {'나는': 1, '파이썬을': 12, '배우고': 4, '있어': 9, '파이썬은': 11, '데이터': 2, '분석에': 5, '유용해': 8, '머신러닝을': 3, '공부하고': 0, '싶어': 7, '분석은': 6, '재미있어': 10}\n",
            "\n",
            "문서-단어 행렬(DTM):\n",
            "[[0 1 0 0 1 0 0 0 0 1 0 0 1]\n",
            " [0 0 1 0 0 1 0 0 1 0 0 1 0]\n",
            " [1 0 0 1 0 0 0 1 0 0 0 0 0]\n",
            " [0 0 1 0 0 0 1 0 0 0 1 0 0]]\n"
          ]
        }
      ],
      "source": [
        "# 필요한 라이브러리를 불러옵니다.\n",
        "from sklearn.feature_extraction.text import CountVectorizer\n",
        "\n",
        "# 문서 집합을 정의합니다. 여기서는 간단한 예제로 4개의 문서를 사용합니다.\n",
        "documents = [\n",
        "    \"나는 파이썬을 배우고 있어\",\n",
        "    \"파이썬은 데이터 분석에 유용해\",\n",
        "    \"머신러닝을 공부하고 싶어\",\n",
        "    \"데이터 분석은 재미있어\"\n",
        "]\n",
        "\n",
        "# CountVectorizer 인스턴스를 생성합니다.\n",
        "vectorizer = CountVectorizer()\n",
        "\n",
        "# 문서-단어 행렬(DTM)을 생성합니다. fit_transform 메서드는 문서들을 입력받아 행렬을 생성합니다.\n",
        "X = vectorizer.fit_transform(documents)\n",
        "\n",
        "# 생성된 DTM을 배열로 변환합니다.\n",
        "X_array = X.toarray()\n",
        "\n",
        "# 각 단어와 그에 해당하는 인덱스를 출력합니다.\n",
        "print(\"단어 인덱스:\\n\", vectorizer.vocabulary_)\n",
        "\n",
        "# 문서-단어 행렬을 출력합니다.\n",
        "print(\"\\n문서-단어 행렬(DTM):\")\n",
        "print(X_array)\n"
      ]
    },
    {
      "cell_type": "markdown",
      "source": [
        "이 코드는 주어진 문서들로부터 DTM을 생성하고, 각 단어가 문서 내에서 얼마나 자주 등장하는지를 보여주는 행렬을 출력합니다. CountVectorizer는 각 문서에서 단어의 출현 횟수를 세어, 문서별로 단어의 빈도를 나타내는 벡터를 생성합니다. 이렇게 생성된 벡터들을 모아서 DTM을 구성하게 됩니다.\n",
        "\n",
        "이 예제에서는 단어의 순서나 문맥은 고려되지 않으며, 단순히 출현 빈도만을 기반으로 정보를 표현합니다. 실제 응용에서는 추가적인 전처리 단계(예: 불용어 제거, 어간 추출 등)가 필요할 수 있습니다."
      ],
      "metadata": {
        "id": "7-_eqRndvneK"
      }
    }
  ]
}