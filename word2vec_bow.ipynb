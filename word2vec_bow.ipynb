{
  "nbformat": 4,
  "nbformat_minor": 0,
  "metadata": {
    "colab": {
      "provenance": [],
      "toc_visible": true,
      "authorship_tag": "ABX9TyNrVIhxXTUVGIaM0O5yB8A7",
      "include_colab_link": true
    },
    "kernelspec": {
      "name": "python3",
      "display_name": "Python 3"
    },
    "language_info": {
      "name": "python"
    }
  },
  "cells": [
    {
      "cell_type": "markdown",
      "metadata": {
        "id": "view-in-github",
        "colab_type": "text"
      },
      "source": [
        "<a href=\"https://colab.research.google.com/github/kwonyounghwan/colab/blob/main/word2vec_bow.ipynb\" target=\"_parent\"><img src=\"https://colab.research.google.com/assets/colab-badge.svg\" alt=\"Open In Colab\"/></a>"
      ]
    },
    {
      "cell_type": "markdown",
      "source": [
        "**Bag of Words (BoW)**\n",
        "\n",
        "\n",
        "Bag of Words (BoW) 모델은 텍스트 데이터를 수치적으로 표현하는 방법 중 하나입니다. 이 모델의 핵심 아이디어는 문서를 구성하는 단어들의 등장 빈도에 기반하여, 문서 내의 정보를 간단한 벡터 형태로 변환하는 것입니다. 각 문서나 문장은 단어 사전에 있는 단어들의 출현 빈도로 구성된 벡터로 표현됩니다. 이러한 방식으로 텍스트 데이터를 변환함으로써, 머신러닝 알고리즘이나 다른 데이터 분석 기법을 적용할 수 있게 됩니다.\n",
        "\n",
        "BoW 모델의 주요 단계는 다음과 같습니다:\n",
        "\n",
        "1. 전체 문서 집합에서 사용되는 모든 단어들의 목록(단어 사전)을 만듭니다.\n",
        "2. 각 문서를 검토하여, 단어 사전에 있는 각 단어가 해당 문서에 몇 번 등장하는지 세어 빈도 벡터를 생성합니다.\n",
        "\n",
        "BoW의 단점은 문맥과 단어의 순서를 무시한다는 것입니다. 예를 들어, \"나는 학교에 간다\"와 \"학교에 나는 간다\"는 완전히 다른 문장이지만, BoW 모델에서는 두 문장이 동일한 벡터로 표현됩니다. 또한, 매우 희귀한 단어와 매우 자주 등장하는 단어가 동일하게 처리될 수 있어, 추가적인 처리 과정(예: TF-IDF)이 필요할 수 있습니다."
      ],
      "metadata": {
        "id": "zzwTX1TAruGe"
      }
    },
    {
      "cell_type": "code",
      "execution_count": 1,
      "metadata": {
        "colab": {
          "base_uri": "https://localhost:8080/"
        },
        "id": "AQZ_oZpIkyws",
        "outputId": "a9ab7e49-6606-48bd-ed9f-838f68f3b0c4"
      },
      "outputs": [
        {
          "output_type": "stream",
          "name": "stdout",
          "text": [
            "단어 인덱스: {'나는': 1, '파이썬을': 15, '좋아해': 10, '파이썬은': 14, '인공지능': 7, '프로그래밍에': 17, '아주': 5, '좋은': 11, '언어야': 6, '머신러닝과': 4, '딥러닝에': 2, '관심이': 0, '많아': 3, '파이썬과': 13, '자바': 8, '중에서': 12, '파이썬이': 16, '좋아': 9}\n",
            "문서-단어 행렬:\n",
            "[[0 1 0 0 0 0 0 0 0 0 1 0 0 0 0 1 0 0]\n",
            " [0 0 0 0 0 1 1 1 0 0 0 1 0 0 1 0 0 1]\n",
            " [1 1 1 1 1 0 0 0 0 0 0 0 0 0 0 0 0 0]\n",
            " [0 1 0 0 0 0 0 0 1 1 0 0 1 1 0 0 1 0]]\n"
          ]
        }
      ],
      "source": [
        "# 필요한 라이브러리를 불러옵니다.\n",
        "from sklearn.feature_extraction.text import CountVectorizer\n",
        "\n",
        "# 샘플 데이터입니다. 실제 애플리케이션에서는 사용자의 데이터를 사용합니다.\n",
        "documents = [\n",
        "    \"나는 파이썬을 좋아해\",\n",
        "    \"파이썬은 인공지능 프로그래밍에 아주 좋은 언어야\",\n",
        "    \"나는 머신러닝과 딥러닝에 관심이 많아\",\n",
        "    \"파이썬과 자바 중에서 나는 파이썬이 더 좋아\"\n",
        "]\n",
        "\n",
        "# CountVectorizer를 초기화합니다. 이 클래스는 텍스트 데이터를 특정한 수치 데이터로 변환하는 데 사용됩니다.\n",
        "vectorizer = CountVectorizer()\n",
        "\n",
        "# fit_transform 메서드를 사용해 문서 데이터를 벡터로 변환합니다.\n",
        "X = vectorizer.fit_transform(documents)\n",
        "\n",
        "# 결과를 배열로 변환합니다.\n",
        "X_array = X.toarray()\n",
        "\n",
        "# 각 단어와 해당 단어의 인덱스를 출력합니다.\n",
        "print(\"단어 인덱스:\", vectorizer.vocabulary_)\n",
        "\n",
        "# 변환된 벡터를 출력합니다.\n",
        "print(\"문서-단어 행렬:\")\n",
        "print(X_array)\n"
      ]
    }
  ]
}