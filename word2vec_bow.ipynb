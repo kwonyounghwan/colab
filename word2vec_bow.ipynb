{
  "nbformat": 4,
  "nbformat_minor": 0,
  "metadata": {
    "colab": {
      "provenance": [],
      "toc_visible": true,
      "authorship_tag": "ABX9TyPMu/VzB9nFdPVvCRfRLAFL",
      "include_colab_link": true
    },
    "kernelspec": {
      "name": "python3",
      "display_name": "Python 3"
    },
    "language_info": {
      "name": "python"
    }
  },
  "cells": [
    {
      "cell_type": "markdown",
      "metadata": {
        "id": "view-in-github",
        "colab_type": "text"
      },
      "source": [
        "<a href=\"https://colab.research.google.com/github/kwonyounghwan/colab/blob/main/word2vec_bow.ipynb\" target=\"_parent\"><img src=\"https://colab.research.google.com/assets/colab-badge.svg\" alt=\"Open In Colab\"/></a>"
      ]
    },
    {
      "cell_type": "code",
      "execution_count": 1,
      "metadata": {
        "colab": {
          "base_uri": "https://localhost:8080/"
        },
        "id": "AQZ_oZpIkyws",
        "outputId": "a9ab7e49-6606-48bd-ed9f-838f68f3b0c4"
      },
      "outputs": [
        {
          "output_type": "stream",
          "name": "stdout",
          "text": [
            "단어 인덱스: {'나는': 1, '파이썬을': 15, '좋아해': 10, '파이썬은': 14, '인공지능': 7, '프로그래밍에': 17, '아주': 5, '좋은': 11, '언어야': 6, '머신러닝과': 4, '딥러닝에': 2, '관심이': 0, '많아': 3, '파이썬과': 13, '자바': 8, '중에서': 12, '파이썬이': 16, '좋아': 9}\n",
            "문서-단어 행렬:\n",
            "[[0 1 0 0 0 0 0 0 0 0 1 0 0 0 0 1 0 0]\n",
            " [0 0 0 0 0 1 1 1 0 0 0 1 0 0 1 0 0 1]\n",
            " [1 1 1 1 1 0 0 0 0 0 0 0 0 0 0 0 0 0]\n",
            " [0 1 0 0 0 0 0 0 1 1 0 0 1 1 0 0 1 0]]\n"
          ]
        }
      ],
      "source": [
        "# 필요한 라이브러리를 불러옵니다.\n",
        "from sklearn.feature_extraction.text import CountVectorizer\n",
        "\n",
        "# 샘플 데이터입니다. 실제 애플리케이션에서는 사용자의 데이터를 사용합니다.\n",
        "documents = [\n",
        "    \"나는 파이썬을 좋아해\",\n",
        "    \"파이썬은 인공지능 프로그래밍에 아주 좋은 언어야\",\n",
        "    \"나는 머신러닝과 딥러닝에 관심이 많아\",\n",
        "    \"파이썬과 자바 중에서 나는 파이썬이 더 좋아\"\n",
        "]\n",
        "\n",
        "# CountVectorizer를 초기화합니다. 이 클래스는 텍스트 데이터를 특정한 수치 데이터로 변환하는 데 사용됩니다.\n",
        "vectorizer = CountVectorizer()\n",
        "\n",
        "# fit_transform 메서드를 사용해 문서 데이터를 벡터로 변환합니다.\n",
        "X = vectorizer.fit_transform(documents)\n",
        "\n",
        "# 결과를 배열로 변환합니다.\n",
        "X_array = X.toarray()\n",
        "\n",
        "# 각 단어와 해당 단어의 인덱스를 출력합니다.\n",
        "print(\"단어 인덱스:\", vectorizer.vocabulary_)\n",
        "\n",
        "# 변환된 벡터를 출력합니다.\n",
        "print(\"문서-단어 행렬:\")\n",
        "print(X_array)\n"
      ]
    }
  ]
}