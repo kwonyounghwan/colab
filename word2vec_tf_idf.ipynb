{
  "nbformat": 4,
  "nbformat_minor": 0,
  "metadata": {
    "colab": {
      "provenance": [],
      "toc_visible": true,
      "authorship_tag": "ABX9TyNr66gziKdh8CacnfebiITv",
      "include_colab_link": true
    },
    "kernelspec": {
      "name": "python3",
      "display_name": "Python 3"
    },
    "language_info": {
      "name": "python"
    }
  },
  "cells": [
    {
      "cell_type": "markdown",
      "metadata": {
        "id": "view-in-github",
        "colab_type": "text"
      },
      "source": [
        "<a href=\"https://colab.research.google.com/github/kwonyounghwan/colab/blob/main/word2vec_tf_idf.ipynb\" target=\"_parent\"><img src=\"https://colab.research.google.com/assets/colab-badge.svg\" alt=\"Open In Colab\"/></a>"
      ]
    },
    {
      "cell_type": "markdown",
      "source": [
        "**TF-IDF(Term Frequency-Inverse Document Frequency)**\n",
        "\n",
        "\n",
        "TF-IDF(Term Frequency-Inverse Document Frequency)는 텍스트 데이터를 수치화할 때 많이 사용되는 기법입니다. 이 방법은 단어의 중요성을 가중치로 표현하는데, 단순히 단어의 출현 빈도(TF)를 사용하는 것이 아니라, 그 단어가 얼마나 많은 문서에 걸쳐 등장하는지에 대한 역문서 빈도(IDF)를 함께 고려합니다. 즉, TF-IDF는 특정 문서 내에서 자주 등장하지만 다른 많은 문서에서는 드물게 등장하는 단어에 높은 가중치를 부여합니다. 이를 통해 문서의 주제를 나타내는 키워드를 효과적으로 추출할 수 있습니다.\n",
        "\n",
        "TF-IDF 계산 방법\n",
        "TF (Term Frequency): 특정 단어가 문서 내에 등장하는 빈도. 이 값은 그 단어가 문서 내에서 얼마나 중요한지를 나타냅니다.\n",
        "계산 방법: (특정 단어의 출현 횟수) / (문서 내 전체 단어의 수)\n",
        "IDF (Inverse Document Frequency): 단어가 여러 문서에 걸쳐 드물게 등장할수록 그 단어의 IDF는 증가합니다. 이 값은 단어가 얼마나 특이한지를 나타냅니다.\n",
        "계산 방법: log(문서의 총 수 / (1 + 특정 단어가 포함된 문서의 수))\n",
        "예제 코드\n",
        "TF-IDF를 계산하기 위한 파이썬 예제 코드를 보여드리겠습니다. 이 예제에서는 TfidfVectorizer를 사용하여 간단하게 TF-IDF 값을 계산합니다."
      ],
      "metadata": {
        "id": "zzwTX1TAruGe"
      }
    },
    {
      "cell_type": "code",
      "execution_count": 1,
      "metadata": {
        "colab": {
          "base_uri": "https://localhost:8080/"
        },
        "id": "AQZ_oZpIkyws",
        "outputId": "17b1b0d4-4fc4-4966-964c-18a525895b69"
      },
      "outputs": [
        {
          "output_type": "stream",
          "name": "stdout",
          "text": [
            "단어 인덱스: {'파이썬은': 16, '프로그래밍': 19, '언어': 10, '하나입니다': 20, '자동화와': 15, '데이터': 4, '분석에': 7, '널리': 2, '사용됩니다': 8, '과학에서': 0, '파이썬의': 18, '인기는': 13, '매우': 5, '높습니다': 3, '머신러닝과': 6, '과학을': 1, '위한': 12, '언어로': 11, '파이썬을': 17, '사용할': 9, '있습니다': 14}\n",
            "\n",
            "TF-IDF 행렬:\n",
            "[[0.         0.         0.         0.         0.         0.\n",
            "  0.         0.         0.         0.         0.52547275 0.\n",
            "  0.         0.         0.         0.         0.41428875 0.\n",
            "  0.         0.52547275 0.52547275]\n",
            " [0.         0.         0.44592216 0.         0.28462634 0.\n",
            "  0.         0.44592216 0.44592216 0.         0.         0.\n",
            "  0.         0.         0.         0.44592216 0.35157015 0.\n",
            "  0.         0.         0.        ]\n",
            " [0.43003652 0.         0.         0.43003652 0.27448674 0.43003652\n",
            "  0.         0.         0.         0.         0.         0.\n",
            "  0.         0.43003652 0.         0.         0.         0.\n",
            "  0.43003652 0.         0.        ]\n",
            " [0.         0.36742339 0.         0.         0.23452159 0.\n",
            "  0.36742339 0.         0.         0.36742339 0.         0.36742339\n",
            "  0.36742339 0.         0.36742339 0.         0.         0.36742339\n",
            "  0.         0.         0.        ]]\n"
          ]
        }
      ],
      "source": [
        "# 필요한 라이브러리를 불러옵니다.\n",
        "from sklearn.feature_extraction.text import TfidfVectorizer\n",
        "\n",
        "# 문서 집합을 정의합니다.\n",
        "documents = [\n",
        "    \"파이썬은 프로그래밍 언어 중 하나입니다.\",\n",
        "    \"파이썬은 자동화와 데이터 분석에 널리 사용됩니다.\",\n",
        "    \"데이터 과학에서 파이썬의 인기는 매우 높습니다.\",\n",
        "    \"머신러닝과 데이터 과학을 위한 언어로 파이썬을 사용할 수 있습니다.\"\n",
        "]\n",
        "\n",
        "# TfidfVectorizer를 생성합니다.\n",
        "tfidf_vectorizer = TfidfVectorizer()\n",
        "\n",
        "# fit_transform 메서드를 사용하여 문서 데이터를 TF-IDF 행렬로 변환합니다.\n",
        "tfidf_matrix = tfidf_vectorizer.fit_transform(documents)\n",
        "\n",
        "# 각 단어와 해당 단어의 인덱스를 출력합니다.\n",
        "print(\"단어 인덱스:\", tfidf_vectorizer.vocabulary_)\n",
        "\n",
        "# TF-IDF 행렬을 출력합니다.\n",
        "print(\"\\nTF-IDF 행렬:\")\n",
        "print(tfidf_matrix.toarray())\n"
      ]
    },
    {
      "cell_type": "markdown",
      "source": [
        "이 코드는 각 문서를 TF-IDF 벡터로 변환하며, 각 단어의 중요도를 반영한 가중치가 계산됩니다. 이를 통해 각 문서의 핵심적인 내용을 파악할 수 있으며, 문서 간의 유사도 계산이나 키워드 추출 등 다양한 분석에 활용됩니다."
      ],
      "metadata": {
        "id": "7-_eqRndvneK"
      }
    }
  ]
}